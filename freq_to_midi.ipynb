{
 "cells": [
  {
   "cell_type": "code",
   "execution_count": 11,
   "id": "c9f66892-4803-4f52-846b-8c95eb2b8e46",
   "metadata": {},
   "outputs": [],
   "source": [
    "from math import log\n",
    "\n",
    "def freq_to_midi_index(f):\n",
    "    return log(f/440) / log(1.059463) + 69\n",
    "\n"
   ]
  },
  {
   "cell_type": "code",
   "execution_count": 12,
   "id": "bb555f20-0a9e-40c8-a30a-c8ade06c4147",
   "metadata": {},
   "outputs": [
    {
     "data": {
      "text/plain": [
       "60.00027957473054"
      ]
     },
     "execution_count": 12,
     "metadata": {},
     "output_type": "execute_result"
    }
   ],
   "source": [
    "freq_to_midi_index(261.63)\n"
   ]
  },
  {
   "cell_type": "code",
   "execution_count": 10,
   "id": "1f7eb2a5-d221-4ac8-9190-855a12424412",
   "metadata": {
    "tags": []
   },
   "outputs": [
    {
     "data": {
      "text/plain": [
       "'B'"
      ]
     },
     "execution_count": 10,
     "metadata": {},
     "output_type": "execute_result"
    }
   ],
   "source": [
    "chr(ord('A') + 1)\n"
   ]
  },
  {
   "cell_type": "code",
   "execution_count": 38,
   "id": "bc3bdc38-86bb-4ec7-8650-2c4d22f5de40",
   "metadata": {},
   "outputs": [],
   "source": [
    "from math import floor\n",
    "\n",
    "def midi_index_to_human(i):\n",
    "    a_offset = (i + 3) % 12\n",
    "    notenames = ['A', 'A#', 'B', 'C', 'C#', 'D', 'D#', 'E', 'F', 'F#', 'G', 'G#'] \n",
    "    octave = floor(i / 12) - 1\n",
    "    return notenames[a_offset] + str(octave)"
   ]
  },
  {
   "cell_type": "code",
   "execution_count": 39,
   "id": "4976804b-f6bb-4108-986d-8229ca1b7494",
   "metadata": {},
   "outputs": [
    {
     "data": {
      "text/plain": [
       "'A0'"
      ]
     },
     "execution_count": 39,
     "metadata": {},
     "output_type": "execute_result"
    }
   ],
   "source": [
    "midi_index_to_human(21)\n"
   ]
  },
  {
   "cell_type": "code",
   "execution_count": 40,
   "id": "d8054458-c95e-4f4b-b6d7-a2db8fea8eaa",
   "metadata": {},
   "outputs": [
    {
     "data": {
      "text/plain": [
       "'C4'"
      ]
     },
     "execution_count": 40,
     "metadata": {},
     "output_type": "execute_result"
    }
   ],
   "source": [
    "midi_index_to_human(60)"
   ]
  },
  {
   "cell_type": "code",
   "execution_count": 20,
   "id": "17d5b5e9-546b-4162-adbc-46095b124ce3",
   "metadata": {},
   "outputs": [
    {
     "data": {
      "text/plain": [
       "12"
      ]
     },
     "execution_count": 20,
     "metadata": {},
     "output_type": "execute_result"
    }
   ],
   "source": [
    "int(12.55)"
   ]
  },
  {
   "cell_type": "code",
   "execution_count": 21,
   "id": "d3f5a232-a73b-435a-80ac-10a0891a84f2",
   "metadata": {},
   "outputs": [
    {
     "data": {
      "text/plain": [
       "13"
      ]
     },
     "execution_count": 21,
     "metadata": {},
     "output_type": "execute_result"
    }
   ],
   "source": [
    "round(12.55)"
   ]
  },
  {
   "cell_type": "code",
   "execution_count": 22,
   "id": "62823cdc-5349-4e99-9412-349591d47426",
   "metadata": {},
   "outputs": [
    {
     "data": {
      "text/plain": [
       "12"
      ]
     },
     "execution_count": 22,
     "metadata": {},
     "output_type": "execute_result"
    }
   ],
   "source": [
    "floor(12.55)\n"
   ]
  },
  {
   "cell_type": "code",
   "execution_count": null,
   "id": "d4291f86-75bd-4362-b37f-c3ce892ddc57",
   "metadata": {},
   "outputs": [],
   "source": []
  }
 ],
 "metadata": {
  "kernelspec": {
   "display_name": "Python 3 (ipykernel)",
   "language": "python",
   "name": "python3"
  },
  "language_info": {
   "codemirror_mode": {
    "name": "ipython",
    "version": 3
   },
   "file_extension": ".py",
   "mimetype": "text/x-python",
   "name": "python",
   "nbconvert_exporter": "python",
   "pygments_lexer": "ipython3",
   "version": "3.9.7"
  }
 },
 "nbformat": 4,
 "nbformat_minor": 5
}
